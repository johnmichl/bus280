{
 "cells": [
  {
   "cell_type": "markdown",
   "metadata": {},
   "source": [
    "# STUDENT EDIT THIS CELL\n",
    "Student Name: **REPLACE WITH YOUR NAME**"
   ]
  },
  {
   "cell_type": "markdown",
   "metadata": {},
   "source": [
    "# Predictive Data Mining with Linear Regression, Scikit Learn and Python\n",
    "\n",
    "## BUS280 - Spring 2022\n",
    "Professor John Michl"
   ]
  },
  {
   "cell_type": "markdown",
   "metadata": {},
   "source": [
    "## Didn't we do regression?\n",
    "\n",
    "* Yes, in the context of Time Series Analysis\n",
    "* Analyzed historical data to project into the future\n",
    "* For non-time series data, best to take train-test approach"
   ]
  },
  {
   "cell_type": "markdown",
   "metadata": {},
   "source": [
    "## California Houses Prices Dataset\n",
    "* Built-in to scikit-learn\n",
    "* We're familiar with the data structure of the Bunch\n",
    "* Applicable to similar analysis from other data sources"
   ]
  },
  {
   "cell_type": "code",
   "execution_count": null,
   "metadata": {},
   "outputs": [],
   "source": [
    "# import dependencies, modules and magics\n",
    "\n",
    "import pandas as pd\n",
    "import matplotlib.pyplot as plt\n",
    "import seaborn as sns\n",
    "from sklearn.datasets import fetch_california_housing\n",
    "\n",
    "%matplotlib inline\n",
    "%config InlineBackend.figure_format = 'retina'"
   ]
  },
  {
   "cell_type": "code",
   "execution_count": null,
   "metadata": {},
   "outputs": [],
   "source": [
    "# create the Bunch object\n",
    "\n",
    "california = fetch_california_housing()"
   ]
  },
  {
   "cell_type": "code",
   "execution_count": null,
   "metadata": {},
   "outputs": [],
   "source": [
    "# show keys are in the Bunch object\n",
    "\n",
    "california.keys()"
   ]
  },
  {
   "cell_type": "markdown",
   "metadata": {},
   "source": [
    "## Let's explore the data set\n",
    "* The previous cell demonstrates how to view an *attribute* of an object. \n",
    "* `.keys()` is an attribute for this particular object.\n",
    "* We can view and act on other attributes by accessing their key names.\n",
    "* View the description of the data set using the DESCR attribute."
   ]
  },
  {
   "cell_type": "code",
   "execution_count": null,
   "metadata": {},
   "outputs": [],
   "source": [
    "# Output the description using the DESCR attribute -- ugh!\n",
    "# Remember, Python is case sensitive\n"
   ]
  },
  {
   "cell_type": "code",
   "execution_count": null,
   "metadata": {
    "colab": {
     "base_uri": "https://localhost:8080/"
    },
    "executionInfo": {
     "elapsed": 121,
     "status": "ok",
     "timestamp": 1647824729078,
     "user": {
      "displayName": "John Michl",
      "photoUrl": "https://lh3.googleusercontent.com/a-/AOh14Gj22sSYK4PnZ13fn3GL0128_Xwr9VYCVNFjqhRj=s64",
      "userId": "09974342569987623135"
     },
     "user_tz": 300
    },
    "id": "tIqGBZRSAM1X",
    "outputId": "17b6d5e0-0961-4715-e146-cde8c3774e84"
   },
   "outputs": [],
   "source": [
    "# Use print() method to show description of dataset code to print out the \n",
    "# description of the data set. In this case, print() is used to apply \n",
    "# formatting so it is easier to read.\n",
    "\n"
   ]
  },
  {
   "cell_type": "markdown",
   "metadata": {},
   "source": [
    "## The `Bunch` object contains various data arrays\n",
    "* The `data` array consists of all of the independent variables or features. \n",
    "* The `target` array consists of one variable...the dependent variable or thing we hope to predict.\n",
    "* Therefore `feature_names` are the variable names for the `data` attribute. \n",
    "* If we viewed the data in a spreadsheet, these names would be the column headers.\n",
    "* The `target` attribute is the data for dependent variable. The `target_names` can takes on one of two roles depending on the type of the target value. "
   ]
  },
  {
   "cell_type": "code",
   "execution_count": null,
   "metadata": {},
   "outputs": [],
   "source": [
    "# show the feature names for the california object\n",
    "california.feature_names"
   ]
  },
  {
   "cell_type": "code",
   "execution_count": null,
   "metadata": {
    "colab": {
     "base_uri": "https://localhost:8080/"
    },
    "executionInfo": {
     "elapsed": 130,
     "status": "ok",
     "timestamp": 1647824801692,
     "user": {
      "displayName": "John Michl",
      "photoUrl": "https://lh3.googleusercontent.com/a-/AOh14Gj22sSYK4PnZ13fn3GL0128_Xwr9VYCVNFjqhRj=s64",
      "userId": "09974342569987623135"
     },
     "user_tz": 300
    },
    "id": "Qb4eIUjiAsbp",
    "outputId": "f15231bc-9948-4715-aeac-88953de2fa95"
   },
   "outputs": [],
   "source": [
    "# show the target names for the california object\n",
    "\n",
    "california.target_names"
   ]
  },
  {
   "cell_type": "markdown",
   "metadata": {},
   "source": [
    "# STUDENT EDIT THIS CELL\n",
    "Why does that `target_name` result look different than what we saw in the Iris data set?\n",
    "\n",
    "**Double-click on this cell and type in your answer. Run the cell and then wait.**"
   ]
  },
  {
   "cell_type": "markdown",
   "metadata": {},
   "source": [
    "## Arrays are a special data structure\n",
    "* Arrays are collections of values.\n",
    "* They can have different shapes.\n",
    "* One dimensional - like a single column in a spreadsheet (rows only)\n",
    "* Two dimensional - like multiple columns (rows and columns)\n",
    "* Even multi-dimensional (though that gets complicated!)\n",
    "\n",
    "Given there is a `shape` attribute of an array, how might you find the shape of the `data` and `target` arrays?"
   ]
  },
  {
   "cell_type": "code",
   "execution_count": null,
   "metadata": {
    "colab": {
     "base_uri": "https://localhost:8080/"
    },
    "executionInfo": {
     "elapsed": 130,
     "status": "ok",
     "timestamp": 1647824769541,
     "user": {
      "displayName": "John Michl",
      "photoUrl": "https://lh3.googleusercontent.com/a-/AOh14Gj22sSYK4PnZ13fn3GL0128_Xwr9VYCVNFjqhRj=s64",
      "userId": "09974342569987623135"
     },
     "user_tz": 300
    },
    "id": "JSWfQS6kAfKF",
    "outputId": "6192d671-54bc-459a-aefd-a7aa0f491593"
   },
   "outputs": [],
   "source": [
    "# Show the shape of the data array\n",
    "# Show the shape of the target array\n"
   ]
  },
  {
   "cell_type": "code",
   "execution_count": null,
   "metadata": {
    "colab": {
     "base_uri": "https://localhost:8080/"
    },
    "executionInfo": {
     "elapsed": 118,
     "status": "ok",
     "timestamp": 1647824783579,
     "user": {
      "displayName": "John Michl",
      "photoUrl": "https://lh3.googleusercontent.com/a-/AOh14Gj22sSYK4PnZ13fn3GL0128_Xwr9VYCVNFjqhRj=s64",
      "userId": "09974342569987623135"
     },
     "user_tz": 300
    },
    "id": "kcKsvFM4ApA_",
    "outputId": "ef7ed28c-79eb-442f-f866-ce3b8716fda4"
   },
   "outputs": [],
   "source": [
    "# How many lines of output did you get in the previous cell? One or two? \n",
    "# Hold tight for a Python tip!\n"
   ]
  },
  {
   "cell_type": "markdown",
   "metadata": {},
   "source": [
    "## `pandas` and the `DataFrame` object\n",
    "* We learned earlier that a `DataFrame` is a special type of data structure.\n",
    "* Acts like a spreadsheet but can handle almost unlimited data...and has many superpowers.\n",
    "* We imported `pandas` at the start so we don't need import it again. \n",
    "* **ACTION:** comment out the import line with a # sign.\n",
    "* The following lines will set some options such as default widths of output."
   ]
  },
  {
   "cell_type": "code",
   "execution_count": null,
   "metadata": {
    "executionInfo": {
     "elapsed": 121,
     "status": "ok",
     "timestamp": 1647824864447,
     "user": {
      "displayName": "John Michl",
      "photoUrl": "https://lh3.googleusercontent.com/a-/AOh14Gj22sSYK4PnZ13fn3GL0128_Xwr9VYCVNFjqhRj=s64",
      "userId": "09974342569987623135"
     },
     "user_tz": 300
    },
    "id": "D3Ve3Y9eAw4a"
   },
   "outputs": [],
   "source": [
    "# Import pandas and adjust some defaults\n",
    "import pandas as pd\n",
    "pd.set_option('precision', 4)\n",
    "pd.set_option('max_columns',9)\n",
    "pd.set_option('display.width', None)"
   ]
  },
  {
   "cell_type": "code",
   "execution_count": null,
   "metadata": {
    "executionInfo": {
     "elapsed": 146,
     "status": "ok",
     "timestamp": 1647824980801,
     "user": {
      "displayName": "John Michl",
      "photoUrl": "https://lh3.googleusercontent.com/a-/AOh14Gj22sSYK4PnZ13fn3GL0128_Xwr9VYCVNFjqhRj=s64",
      "userId": "09974342569987623135"
     },
     "user_tz": 300
    },
    "id": "ahTQQLocA9wU"
   },
   "outputs": [],
   "source": [
    "# import the california data object into a new dataframe named df\n",
    "# use the feature names as the column names (a.k.a. Series names)\n",
    "\n",
    "df = pd.DataFrame(REPLACE-WITH-DATA-ARRAY, columns=california.feature_names)"
   ]
  },
  {
   "cell_type": "code",
   "execution_count": null,
   "metadata": {
    "executionInfo": {
     "elapsed": 132,
     "status": "ok",
     "timestamp": 1647825008707,
     "user": {
      "displayName": "John Michl",
      "photoUrl": "https://lh3.googleusercontent.com/a-/AOh14Gj22sSYK4PnZ13fn3GL0128_Xwr9VYCVNFjqhRj=s64",
      "userId": "09974342569987623135"
     },
     "user_tz": 300
    },
    "id": "rc5f7YwNBXM9"
   },
   "outputs": [],
   "source": [
    "# create a new Series (column) called MedHouseValue\n",
    "# assign to it the target array from the Bunch\n",
    "\n",
    "df['MedHouseValue'] = pd.Series(REPLACE-WITH-TARGET-ARRAY)\n"
   ]
  },
  {
   "cell_type": "code",
   "execution_count": null,
   "metadata": {
    "colab": {
     "base_uri": "https://localhost:8080/",
     "height": 206
    },
    "executionInfo": {
     "elapsed": 5,
     "status": "ok",
     "timestamp": 1647825022328,
     "user": {
      "displayName": "John Michl",
      "photoUrl": "https://lh3.googleusercontent.com/a-/AOh14Gj22sSYK4PnZ13fn3GL0128_Xwr9VYCVNFjqhRj=s64",
      "userId": "09974342569987623135"
     },
     "user_tz": 300
    },
    "id": "-Dio2rp9Bja1",
    "outputId": "28030c42-4164-4d85-ebde-41f762f31812"
   },
   "outputs": [],
   "source": [
    "# what was that attribute of a dataframe that shows the top of the \n",
    "# dataframe. (There's also one attached to your neck.) Show the first 7 rows.\n"
   ]
  },
  {
   "cell_type": "code",
   "execution_count": null,
   "metadata": {
    "colab": {
     "base_uri": "https://localhost:8080/",
     "height": 300
    },
    "executionInfo": {
     "elapsed": 135,
     "status": "ok",
     "timestamp": 1647825053779,
     "user": {
      "displayName": "John Michl",
      "photoUrl": "https://lh3.googleusercontent.com/a-/AOh14Gj22sSYK4PnZ13fn3GL0128_Xwr9VYCVNFjqhRj=s64",
      "userId": "09974342569987623135"
     },
     "user_tz": 300
    },
    "id": "q6mlgj16Bmv5",
    "outputId": "119ec39e-e3df-45e4-b333-be786213c18e"
   },
   "outputs": [],
   "source": [
    "# show some descriptive stats for the dataframe\n",
    "df.describe()"
   ]
  },
  {
   "cell_type": "markdown",
   "metadata": {
    "id": "p-WxWLa6BubC"
   },
   "source": [
    "### Congratulations, you've successfully...\n",
    "* Imported a `Bunch` object from sklearn.\n",
    "* Viewed the attributes of the object including names, data and target\n",
    "* Converted that object to a DataFrame\n",
    "* Explored the descriptive statistics"
   ]
  },
  {
   "cell_type": "markdown",
   "metadata": {
    "id": "ThE6fxdQCGo5"
   },
   "source": [
    "## Visualizing the Features\n",
    "\n",
    "* Helpful to plot the target value against each feature\n",
    "* Identify patterns and correlations\n",
    "* However, with over 20,000 observations, scatterplots may become a giant ink blot blocking out the patterns.\n",
    "* Let's take a small sample of the 20,000 for visualization purposes.\n"
   ]
  },
  {
   "cell_type": "markdown",
   "metadata": {
    "id": "Kp-idaL9C_6b"
   },
   "source": [
    "### **pandas** `sample`\n",
    "* `sample` is a pandas `DataFrame` method\n",
    "* **fract** is the fraction to select (.10 or 10%)\n",
    "* **random_state** is the random number seed to be sure we can reproduce results\n",
    "* If you and your neighbor both use the same seed, you'll end up with the same sample data set.\n",
    "* We'll use the sample just for exploratory plotting. \n",
    "* We'll start with the full data set for training and testing."
   ]
  },
  {
   "cell_type": "code",
   "execution_count": null,
   "metadata": {
    "executionInfo": {
     "elapsed": 111,
     "status": "ok",
     "timestamp": 1647825349725,
     "user": {
      "displayName": "John Michl",
      "photoUrl": "https://lh3.googleusercontent.com/a-/AOh14Gj22sSYK4PnZ13fn3GL0128_Xwr9VYCVNFjqhRj=s64",
      "userId": "09974342569987623135"
     },
     "user_tz": 300
    },
    "id": "v-xeyoGfCIJE"
   },
   "outputs": [],
   "source": [
    "# Create a new DataFrame for the sample, with a seed of 17\n",
    "\n",
    "sample_df = df.sample(frac=.10, random_state=17)"
   ]
  },
  {
   "cell_type": "markdown",
   "metadata": {
    "id": "GEKpu_tjDqvO"
   },
   "source": [
    "### Prepare for plotting\n",
    "* import `matplotlib` and `seaborn`\n",
    "* `matplotlib` is the underlying plotting engine\n",
    "* `seaborn` is the pretty face on top of that engine that has many desirable defaults\n",
    "* We'll start by setting some defaults"
   ]
  },
  {
   "cell_type": "code",
   "execution_count": null,
   "metadata": {
    "executionInfo": {
     "elapsed": 143,
     "status": "ok",
     "timestamp": 1647825647604,
     "user": {
      "displayName": "John Michl",
      "photoUrl": "https://lh3.googleusercontent.com/a-/AOh14Gj22sSYK4PnZ13fn3GL0128_Xwr9VYCVNFjqhRj=s64",
      "userId": "09974342569987623135"
     },
     "user_tz": 300
    },
    "id": "RqwevU6oC2r6"
   },
   "outputs": [],
   "source": [
    "# Note: we've already imported patplotlib and seaborn at the start\n",
    "# Comment them out, if you like, but keep the sns lines\n",
    "\n",
    "import matplotlib.pyplot as plt\n",
    "import seaborn as sns\n",
    "sns.set(font_scale=2)\n",
    "sns.set_style('whitegrid')"
   ]
  },
  {
   "cell_type": "markdown",
   "metadata": {
    "id": "H_ggOOnlEDw7"
   },
   "source": [
    "### Create the scatter plots\n",
    "* Create several scatter plots showing the target variable (MedHouseValue) as y-axis against all other features.\n",
    "* Use a `for` loop for each feature_name\n",
    "* Substitute the feature name as the x-axis\n",
    "* Create on plot and show it, then loop to the next"
   ]
  },
  {
   "cell_type": "code",
   "execution_count": null,
   "metadata": {
    "scrolled": true
   },
   "outputs": [],
   "source": [
    "# Create a sample plot for just one feature\n",
    "# Note -- data is coming from the sample_df\n",
    "# Since we've designated a data frame as the source, we only need to \n",
    "# indicate the Series names for the x and y data\n",
    "\n",
    "plt.figure(figsize=(16,9))\n",
    "sns.scatterplot(data=sample_df, x='MedInc',\n",
    "                  y='MedHouseValue', hue='MedHouseValue',\n",
    "                  palette='cool', legend=False)\n",
    "\n",
    "\n"
   ]
  },
  {
   "cell_type": "markdown",
   "metadata": {},
   "source": [
    "## Efficient chart creation\n",
    "Since we want a chart that compares each feature to the target, we could loop through the feature names and substitute each name for the x data. \n",
    "\n",
    "When using Python (or most other languages) always think of ways to simplify the code when doing redundant tasks."
   ]
  },
  {
   "cell_type": "code",
   "execution_count": null,
   "metadata": {
    "colab": {
     "base_uri": "https://localhost:8080/",
     "height": 1000
    },
    "executionInfo": {
     "elapsed": 8403,
     "status": "ok",
     "timestamp": 1647825823962,
     "user": {
      "displayName": "John Michl",
      "photoUrl": "https://lh3.googleusercontent.com/a-/AOh14Gj22sSYK4PnZ13fn3GL0128_Xwr9VYCVNFjqhRj=s64",
      "userId": "09974342569987623135"
     },
     "user_tz": 300
    },
    "id": "VUIkImVsD_ZX",
    "outputId": "00f1931d-a0fd-49d8-df65-e776b23b1d22"
   },
   "outputs": [],
   "source": [
    "# loop through the feature_names, take each feature and plot it\n",
    "for feature in california.feature_names:\n",
    "  plt.figure(figsize=(16,9))\n",
    "  sns.scatterplot(data=sample_df, x=feature,\n",
    "                  y='MedHouseValue', hue='MedHouseValue',\n",
    "                  palette='cool', legend=False)"
   ]
  },
  {
   "cell_type": "markdown",
   "metadata": {},
   "source": [
    "# STUDENT EDIT THIS CELL\n",
    "Double-click to open this cell. Enter your observations of the charts. Then run the cell.\n",
    "* Use bullets"
   ]
  },
  {
   "cell_type": "markdown",
   "metadata": {},
   "source": [
    "This could be useful for the previous cells. To see how to reference a internet image in a Markdown cell, double click to see the Markdown code.\n",
    "\n",
    "![Map of california](https://images.mapsofworld.com/usa/states/california/california-lat-long-map.jpg \"California Map\")"
   ]
  },
  {
   "cell_type": "markdown",
   "metadata": {
    "id": "wI0TMqQqFqE5"
   },
   "source": [
    "## Splitting the Data for Training and Testing\n"
   ]
  },
  {
   "cell_type": "code",
   "execution_count": null,
   "metadata": {
    "executionInfo": {
     "elapsed": 144,
     "status": "ok",
     "timestamp": 1647827729325,
     "user": {
      "displayName": "John Michl",
      "photoUrl": "https://lh3.googleusercontent.com/a-/AOh14Gj22sSYK4PnZ13fn3GL0128_Xwr9VYCVNFjqhRj=s64",
      "userId": "09974342569987623135"
     },
     "user_tz": 300
    },
    "id": "zGstFShVEmrK"
   },
   "outputs": [],
   "source": [
    "# Create the train and test splits\n",
    "# first, import the train_test_split module from sklearn\n",
    "from sklearn.model_selection import train_test_split\n",
    "\n",
    "# second, run the module and pass the data and target arrays from the `Bunch`\n",
    "X_train, X_test, y_train, y_test = train_test_split(\n",
    "    california.data, california.target,random_state = 11\n",
    ")"
   ]
  },
  {
   "cell_type": "code",
   "execution_count": null,
   "metadata": {
    "colab": {
     "base_uri": "https://localhost:8080/"
    },
    "executionInfo": {
     "elapsed": 129,
     "status": "ok",
     "timestamp": 1647827730251,
     "user": {
      "displayName": "John Michl",
      "photoUrl": "https://lh3.googleusercontent.com/a-/AOh14Gj22sSYK4PnZ13fn3GL0128_Xwr9VYCVNFjqhRj=s64",
      "userId": "09974342569987623135"
     },
     "user_tz": 300
    },
    "id": "yfVMaLU7GGcv",
    "outputId": "c431fa72-716a-4f8b-df30-d39e1af0eed9"
   },
   "outputs": [],
   "source": [
    "# Show the shape of the X_train training set (upper case X)\n",
    "X_train.shape"
   ]
  },
  {
   "cell_type": "code",
   "execution_count": null,
   "metadata": {
    "executionInfo": {
     "elapsed": 121,
     "status": "ok",
     "timestamp": 1647827731025,
     "user": {
      "displayName": "John Michl",
      "photoUrl": "https://lh3.googleusercontent.com/a-/AOh14Gj22sSYK4PnZ13fn3GL0128_Xwr9VYCVNFjqhRj=s64",
      "userId": "09974342569987623135"
     },
     "user_tz": 300
    },
    "id": "bX-kT-uVGfhs"
   },
   "outputs": [],
   "source": [
    "# Show the shape of the y_train training set (lower case y)\n"
   ]
  },
  {
   "cell_type": "code",
   "execution_count": null,
   "metadata": {},
   "outputs": [],
   "source": [
    "# Show the shape of the X_test training set (upper case X)\n"
   ]
  },
  {
   "cell_type": "code",
   "execution_count": null,
   "metadata": {},
   "outputs": [],
   "source": [
    "# Show the shape of the y_test training set (lower case y)\n"
   ]
  },
  {
   "cell_type": "markdown",
   "metadata": {
    "id": "xEd3BdR0Gley"
   },
   "source": [
    "## Train the Model\n",
    "* `LinearRegression` estimator uses *all* features by default\n",
    "* Error thrown for categorical features\n",
    "* Invoke `fit` method using the train and test sets"
   ]
  },
  {
   "cell_type": "code",
   "execution_count": null,
   "metadata": {
    "executionInfo": {
     "elapsed": 130,
     "status": "ok",
     "timestamp": 1647827732255,
     "user": {
      "displayName": "John Michl",
      "photoUrl": "https://lh3.googleusercontent.com/a-/AOh14Gj22sSYK4PnZ13fn3GL0128_Xwr9VYCVNFjqhRj=s64",
      "userId": "09974342569987623135"
     },
     "user_tz": 300
    },
    "id": "vPpIRK4hGiDl"
   },
   "outputs": [],
   "source": [
    "# import the LinearRegression module from scikit-learn\n",
    "from sklearn.linear_model import LinearRegression"
   ]
  },
  {
   "cell_type": "code",
   "execution_count": null,
   "metadata": {
    "colab": {
     "base_uri": "https://localhost:8080/"
    },
    "executionInfo": {
     "elapsed": 3,
     "status": "ok",
     "timestamp": 1647827732773,
     "user": {
      "displayName": "John Michl",
      "photoUrl": "https://lh3.googleusercontent.com/a-/AOh14Gj22sSYK4PnZ13fn3GL0128_Xwr9VYCVNFjqhRj=s64",
      "userId": "09974342569987623135"
     },
     "user_tz": 300
    },
    "id": "SFuG7panHMqr",
    "outputId": "c01997d0-5f0f-4d4e-a6f0-a8b1e10e794a"
   },
   "outputs": [],
   "source": [
    "# create an empty linear_regression object\n",
    "linear_regression = LinearRegression()\n",
    "\n",
    "# pass the training features and target and attempt to fit the model\n",
    "linear_regression.fit(X=X_train, y=y_train) "
   ]
  },
  {
   "cell_type": "markdown",
   "metadata": {
    "id": "DG7ziFgKJGJ5"
   },
   "source": [
    "### Looping through a list\n",
    "* Use `for` to loop through items in an iterable object such as a list\n",
    "* Show the index number or position using `enumerate`\n",
    "* Access specific positions using a number starting with 0 for the first value"
   ]
  },
  {
   "cell_type": "code",
   "execution_count": null,
   "metadata": {},
   "outputs": [],
   "source": [
    "# View the resulting coefficients. They are now an attribute of the \n",
    "# linear_regression object we created.\n",
    "\n",
    "linear_regression.coef_"
   ]
  },
  {
   "cell_type": "markdown",
   "metadata": {},
   "source": [
    "### Results are stored in the `linear_regression` object\n",
    "* That array isn't very helpful. Or, is it?\n",
    "* The values align with the features. So, the first value goes with the first feature name.\n",
    "* We can loop through those feature_names, pull the position number, pass that to the "
   ]
  },
  {
   "cell_type": "code",
   "execution_count": null,
   "metadata": {
    "executionInfo": {
     "elapsed": 2,
     "status": "ok",
     "timestamp": 1647827733627,
     "user": {
      "displayName": "John Michl",
      "photoUrl": "https://lh3.googleusercontent.com/a-/AOh14Gj22sSYK4PnZ13fn3GL0128_Xwr9VYCVNFjqhRj=s64",
      "userId": "09974342569987623135"
     },
     "user_tz": 300
    },
    "id": "ylOFOf_jIn0d"
   },
   "outputs": [],
   "source": [
    "# Quick review - what are those features again?\n",
    "# Add code to show the contents of the object\n",
    "\n",
    "california.feature_names"
   ]
  },
  {
   "cell_type": "code",
   "execution_count": null,
   "metadata": {},
   "outputs": [],
   "source": [
    "# if we only wanted to see the coefficient for AveRooms, run this:\n",
    "\n",
    "linear_regression.coef_[2]  # MedInc is item 0, AveRooms is item 2"
   ]
  },
  {
   "cell_type": "code",
   "execution_count": null,
   "metadata": {
    "colab": {
     "base_uri": "https://localhost:8080/"
    },
    "executionInfo": {
     "elapsed": 2,
     "status": "ok",
     "timestamp": 1647827734187,
     "user": {
      "displayName": "John Michl",
      "photoUrl": "https://lh3.googleusercontent.com/a-/AOh14Gj22sSYK4PnZ13fn3GL0128_Xwr9VYCVNFjqhRj=s64",
      "userId": "09974342569987623135"
     },
     "user_tz": 300
    },
    "id": "8Bd8Ut7fHWIb",
    "outputId": "0584fde1-dff6-4ae4-8507-e39fbe510d5f"
   },
   "outputs": [],
   "source": [
    "# the enumerate() method returns an item in a list and\n",
    "# the corresponding position number.\n",
    "\n",
    "# loop through the feature_names, return pos, name, and coefficient\n",
    "# special formatting applied for alignment and decimal places\n",
    "for i, name in enumerate(california.feature_names):\n",
    "  print(f'{name:>10}: {linear_regression.coef_[i]:.4}')"
   ]
  },
  {
   "cell_type": "code",
   "execution_count": null,
   "metadata": {
    "colab": {
     "base_uri": "https://localhost:8080/"
    },
    "executionInfo": {
     "elapsed": 126,
     "status": "ok",
     "timestamp": 1647827735146,
     "user": {
      "displayName": "John Michl",
      "photoUrl": "https://lh3.googleusercontent.com/a-/AOh14Gj22sSYK4PnZ13fn3GL0128_Xwr9VYCVNFjqhRj=s64",
      "userId": "09974342569987623135"
     },
     "user_tz": 300
    },
    "id": "0AbZh4OAKeZr",
    "outputId": "eacd0914-ef5f-41a7-97f1-201036b1eff9"
   },
   "outputs": [],
   "source": [
    "# our linear_regression object also has an intercept_ attribute\n",
    "# show it. (Note it is spelled intercept_ )\n",
    "\n"
   ]
  },
  {
   "cell_type": "markdown",
   "metadata": {
    "id": "KZHiRQhtK4DB"
   },
   "source": [
    "# STUDENT EDIT THIS CELL\n",
    "Review the results \n",
    "* Which features have little to no predictive power? \n",
    "* What is the *b* intercept?\n",
    "* Does population significantly increase or decrease Median House Value?\n",
    "* How about bedrooms?\n",
    "* How does this align with the scatter charts? Any surprises or does it make sense?"
   ]
  },
  {
   "cell_type": "markdown",
   "metadata": {
    "id": "SiSMQZYDLodX"
   },
   "source": [
    "## Testing the Model\n",
    "* First create a predicted object using the **test** data.\n",
    "* (We've been using the **training** set so far."
   ]
  },
  {
   "cell_type": "code",
   "execution_count": null,
   "metadata": {
    "executionInfo": {
     "elapsed": 124,
     "status": "ok",
     "timestamp": 1647827738241,
     "user": {
      "displayName": "John Michl",
      "photoUrl": "https://lh3.googleusercontent.com/a-/AOh14Gj22sSYK4PnZ13fn3GL0128_Xwr9VYCVNFjqhRj=s64",
      "userId": "09974342569987623135"
     },
     "user_tz": 300
    },
    "id": "YNan5n9dI3Ww"
   },
   "outputs": [],
   "source": [
    "# pass the X_test data to the predict method of the regression object\n",
    "# create a new object to hold the predicted output\n",
    "predicted = linear_regression.predict(X_test)\n",
    "\n",
    "# create an expected object which is the target value previously saved to the y_test object\n",
    "expected = y_test"
   ]
  },
  {
   "cell_type": "code",
   "execution_count": null,
   "metadata": {
    "colab": {
     "base_uri": "https://localhost:8080/"
    },
    "executionInfo": {
     "elapsed": 3,
     "status": "ok",
     "timestamp": 1647827787742,
     "user": {
      "displayName": "John Michl",
      "photoUrl": "https://lh3.googleusercontent.com/a-/AOh14Gj22sSYK4PnZ13fn3GL0128_Xwr9VYCVNFjqhRj=s64",
      "userId": "09974342569987623135"
     },
     "user_tz": 300
    },
    "id": "wusDp2VML0kZ",
    "outputId": "a9bfcb9f-f2bb-41f2-c681-e024f71e7be5"
   },
   "outputs": [],
   "source": [
    "# View first five predictions with a slice\n",
    "predicted[:5]"
   ]
  },
  {
   "cell_type": "code",
   "execution_count": null,
   "metadata": {
    "colab": {
     "base_uri": "https://localhost:8080/"
    },
    "executionInfo": {
     "elapsed": 125,
     "status": "ok",
     "timestamp": 1647827810735,
     "user": {
      "displayName": "John Michl",
      "photoUrl": "https://lh3.googleusercontent.com/a-/AOh14Gj22sSYK4PnZ13fn3GL0128_Xwr9VYCVNFjqhRj=s64",
      "userId": "09974342569987623135"
     },
     "user_tz": 300
    },
    "id": "NH6Mf-qFMJ6a",
    "outputId": "7270274a-1bc9-4b62-94fd-6142a003e11a"
   },
   "outputs": [],
   "source": [
    "# View first five expected with a slice\n",
    "expected[:5]"
   ]
  },
  {
   "cell_type": "code",
   "execution_count": null,
   "metadata": {},
   "outputs": [],
   "source": [
    "# View the together\n",
    "print(\"predicted\",\"expected\")\n",
    "for i in range(0,10):\n",
    "    print(f'{predicted[i]:<10.3} {expected[i]:.3}')"
   ]
  },
  {
   "cell_type": "markdown",
   "metadata": {
    "id": "ISVmTsGHMYe6"
   },
   "source": [
    "## Visualizing the Expected vs. Predicted Prices\n",
    "* Create a DataFrame of values from the arrays"
   ]
  },
  {
   "cell_type": "code",
   "execution_count": null,
   "metadata": {
    "executionInfo": {
     "elapsed": 125,
     "status": "ok",
     "timestamp": 1647827995312,
     "user": {
      "displayName": "John Michl",
      "photoUrl": "https://lh3.googleusercontent.com/a-/AOh14Gj22sSYK4PnZ13fn3GL0128_Xwr9VYCVNFjqhRj=s64",
      "userId": "09974342569987623135"
     },
     "user_tz": 300
    },
    "id": "semFiT2qMpEU"
   },
   "outputs": [],
   "source": [
    "# since we already of a DataFrame named df, let's use df1 here\n",
    "df1 = pd.DataFrame()    # empty DataFrame\n",
    "df1['Expected'] = pd.Series(expected)   # add a series from the array\n",
    "df1['Predicted'] = pd.Series(predicted)"
   ]
  },
  {
   "cell_type": "code",
   "execution_count": null,
   "metadata": {
    "colab": {
     "base_uri": "https://localhost:8080/",
     "height": 578
    },
    "executionInfo": {
     "elapsed": 1187,
     "status": "ok",
     "timestamp": 1647828242148,
     "user": {
      "displayName": "John Michl",
      "photoUrl": "https://lh3.googleusercontent.com/a-/AOh14Gj22sSYK4PnZ13fn3GL0128_Xwr9VYCVNFjqhRj=s64",
      "userId": "09974342569987623135"
     },
     "user_tz": 300
    },
    "id": "IDTRdMfmMPg_",
    "outputId": "31f86851-5776-4587-cbe1-c1daeb9ae9c2"
   },
   "outputs": [],
   "source": [
    "figure = plt.figure(figsize=(9,9))\n",
    "# The following will throw some errors. Fix them.\n",
    "axes = sns.scatterplot(data=df1, x='Expected',y='Predicted',\n",
    "                       hue='Predicted', palette='cool', legend=False)"
   ]
  },
  {
   "cell_type": "code",
   "execution_count": null,
   "metadata": {
    "colab": {
     "base_uri": "https://localhost:8080/",
     "height": 578
    },
    "executionInfo": {
     "elapsed": 1336,
     "status": "ok",
     "timestamp": 1647828518278,
     "user": {
      "displayName": "John Michl",
      "photoUrl": "https://lh3.googleusercontent.com/a-/AOh14Gj22sSYK4PnZ13fn3GL0128_Xwr9VYCVNFjqhRj=s64",
      "userId": "09974342569987623135"
     },
     "user_tz": 300
    },
    "id": "IY6fif9ONBuO",
    "outputId": "ddc95dc0-d1ec-436c-d24b-01d93135abbb"
   },
   "outputs": [],
   "source": [
    "# Recreate plot with some other options\n",
    "figure = plt.figure(figsize=(9,9))\n",
    "\n",
    "axes = sns.scatterplot(data=df1, x='Expected',y='Predicted',\n",
    "                       hue='Predicted', palette='cool', legend=False)\n",
    "\n",
    "# Determine the min and max for the two axis\n",
    "start = min(expected.min(), predicted.min())\n",
    "end = max(expected.max(), predicted.max())\n",
    "\n",
    "# Set the axis limits\n",
    "axes.set_xlim(start, end)\n",
    "axes.set_ylim(start, end)\n",
    "\n",
    "# plot a prediction line\n",
    "line = plt.plot([start, end], [start, end], 'k--')   # k = black, -- means dashed"
   ]
  },
  {
   "cell_type": "markdown",
   "metadata": {
    "id": "xWbmsAXgPHCq"
   },
   "source": [
    "## Regression Model Metrics\n",
    "* Scikit-learn provides many metrics functions for evaluating how well the model predicts.\n",
    "* For classification problems, use `confusion_matrix` and `classification_report`.\n",
    "* For regression, use **coefficient of determination** and **mean squared error** as we did earlier in the semester."
   ]
  },
  {
   "cell_type": "markdown",
   "metadata": {},
   "source": [
    "### Scikit-learn's `r2_score` function\n",
    "* Calculates the coefficient of determination.\n",
    "* Recall the coefficient of determination has a range of 0 to 1."
   ]
  },
  {
   "cell_type": "code",
   "execution_count": null,
   "metadata": {
    "id": "FcG8BtMjOltW"
   },
   "outputs": [],
   "source": [
    "# import the metrics module from Scikit-learn\n",
    "from sklearn import metrics"
   ]
  },
  {
   "cell_type": "code",
   "execution_count": null,
   "metadata": {},
   "outputs": [],
   "source": [
    "# run the r2 functions using the expected and predicted values\n",
    "metrics.r2_score(expected, predicted)"
   ]
  },
  {
   "cell_type": "markdown",
   "metadata": {},
   "source": [
    "## STUDENT EDIT THIS CELL\n",
    "* Evaluate the predictive power of this model given the output of the previous cell.\n",
    "\n",
    "YOUR OBSERVATIONS HERE\n"
   ]
  },
  {
   "cell_type": "markdown",
   "metadata": {},
   "source": [
    "### Scikit-Learn's `mean_squared_error` function\n",
    "* "
   ]
  },
  {
   "cell_type": "code",
   "execution_count": null,
   "metadata": {},
   "outputs": [],
   "source": [
    "# Calculate the estimators mean squared error\n",
    "metrics.mean_squared_error(expected, predicted)"
   ]
  },
  {
   "cell_type": "markdown",
   "metadata": {},
   "source": [
    "## Trying other models\n",
    "* Frequently, we'll try several approaches to see if somethign will be more predictive than the linear regression model. \n",
    "* Scikit-learn includes `ElasticNet`, `Lasso`, and `Ridge` methods, in addition to `LinearRegression`.\n",
    "* The code below will run each of those models several times using the `KFold` method of pulling samples. \n",
    "* The model that has the highest mean R-squared is most likely the most predictive."
   ]
  },
  {
   "cell_type": "code",
   "execution_count": null,
   "metadata": {},
   "outputs": [],
   "source": [
    "# import the other models from Scikit-learn\n",
    "from sklearn.linear_model import ElasticNet, Lasso, Ridge\n",
    "\n",
    "# create a dictionary of the estimators so we can loop through\n",
    "# the models rather than coding them separately\n",
    "\n",
    "estimators = {\n",
    "    'LinearRegression': linear_regression,\n",
    "    'ElasticNet': ElasticNet(),\n",
    "    'Lasso': Lasso(),\n",
    "    'Ridge': Ridge()\n",
    "}"
   ]
  },
  {
   "cell_type": "code",
   "execution_count": null,
   "metadata": {},
   "outputs": [],
   "source": [
    "# import the KFold and Cross_val_score from Scikit-learn for comparisons\n",
    "from sklearn.model_selection import KFold, cross_val_score\n",
    "\n",
    "# loop through all of the estimators and run all of the models\n",
    "for estimator_name, estimator_object in estimators.items():\n",
    "    kfold = KFold(n_splits=10, random_state=11, shuffle=True)\n",
    "    scores = cross_val_score(estimator=estimator_object,\n",
    "                            X=california.data, y=california.target,\n",
    "                            cv=kfold, scoring='r2')\n",
    "    print(f'{estimator_name:>16}: '+\n",
    "          f'mean of r2 scores = {scores.mean():.3f}')"
   ]
  },
  {
   "cell_type": "markdown",
   "metadata": {},
   "source": [
    "# STUDENT EDIT THIS CELL\n",
    "Interpret the results in the previous cell. \n",
    "\n",
    "* Which, if any, of the regression models should be used to predict the home prices? \n",
    "* Is there anything you noticed from working through this, perhaps in the graphs, that might suggest a way to improve the predictive power?\n",
    "\n",
    "Save the notebook, share the link, and submit it to the in-class assignment."
   ]
  },
  {
   "cell_type": "code",
   "execution_count": null,
   "metadata": {},
   "outputs": [],
   "source": []
  }
 ],
 "metadata": {
  "colab": {
   "authorship_tag": "ABX9TyN8HdDet8v3WdbXtNBe6BOM",
   "name": "BUS208 - Data Mining.ipynb",
   "provenance": []
  },
  "kernelspec": {
   "display_name": "Python 3",
   "language": "python",
   "name": "python3"
  },
  "language_info": {
   "codemirror_mode": {
    "name": "ipython",
    "version": 3
   },
   "file_extension": ".py",
   "mimetype": "text/x-python",
   "name": "python",
   "nbconvert_exporter": "python",
   "pygments_lexer": "ipython3",
   "version": "3.8.8"
  },
  "varInspector": {
   "cols": {
    "lenName": 16,
    "lenType": 16,
    "lenVar": 40
   },
   "kernels_config": {
    "python": {
     "delete_cmd_postfix": "",
     "delete_cmd_prefix": "del ",
     "library": "var_list.py",
     "varRefreshCmd": "print(var_dic_list())"
    },
    "r": {
     "delete_cmd_postfix": ") ",
     "delete_cmd_prefix": "rm(",
     "library": "var_list.r",
     "varRefreshCmd": "cat(var_dic_list()) "
    }
   },
   "types_to_exclude": [
    "module",
    "function",
    "builtin_function_or_method",
    "instance",
    "_Feature"
   ],
   "window_display": false
  }
 },
 "nbformat": 4,
 "nbformat_minor": 1
}
